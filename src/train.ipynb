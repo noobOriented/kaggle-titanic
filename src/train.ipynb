{
 "cells": [
  {
   "cell_type": "code",
   "execution_count": 1,
   "metadata": {
    "collapsed": true
   },
   "outputs": [],
   "source": [
    "import numpy as np\n",
    "import pandas as pd\n",
    "import seaborn as sns\n",
    "import matplotlib.pyplot as plt\n",
    "%matplotlib inline\n",
    "\n",
    "#import sklearn\n",
    "from sklearn.preprocessing import StandardScaler\n",
    "\n",
    "#import self-defined utilities\n",
    "from utils import get_best_classifier, get_train_test_set\n",
    "\n",
    "import parameters as pm\n",
    "from .stack import Stacking_Classifier\n",
    "from random import randint\n",
    "\n",
    "from sklearn.linear_model import LogisticRegression\n",
    "from sklearn.svm import SVC\n",
    "from sklearn.tree import DecisionTreeClassifier\n",
    "from sklearn.ensemble import RandomForestClassifier, ExtraTreesClassifier, AdaBoostClassifier, AdaBoostRegressor\n",
    "from xgboost import XGBClassifier\n",
    "from sklearn.neighbors import KNeighborsClassifier, KNeighborsRegressor\n",
    "from sklearn.neural_network import MLPClassifier"
   ]
  },
  {
   "cell_type": "markdown",
   "metadata": {},
   "source": [
    "# Stacking"
   ]
  },
  {
   "cell_type": "markdown",
   "metadata": {},
   "source": [
    "# Parameters Tuning\n",
    "\n",
    "1. Logistic Regression\n",
    "2. Kernel SVC\n",
    "3. Random Forest Classifier\n",
    "4. Extra Trees Classifier\n",
    "5. AdaBoost Tree\n",
    "6. XGB Classifier\n",
    "7. K-Nearest Neighbors"
   ]
  },
  {
   "cell_type": "markdown",
   "metadata": {},
   "source": [
    "## Two-Level Stack"
   ]
  },
  {
   "cell_type": "code",
   "execution_count": 2,
   "metadata": {},
   "outputs": [
    {
     "name": "stderr",
     "output_type": "stream",
     "text": [
      "/Users/jsaon/anaconda3/lib/python3.6/site-packages/sklearn/utils/validation.py:429: DataConversionWarning: Data with input dtype int64 was converted to float64 by StandardScaler.\n",
      "  warnings.warn(msg, _DataConversionWarning)\n"
     ]
    },
    {
     "name": "stdout",
     "output_type": "stream",
     "text": [
      "=========================================================================\n",
      "## LogisticRegression(**{'C': 0.125, 'dual': False, 'penalty': 'l1'})\n",
      "score:  0.831818181818\n",
      "\n",
      "=========================================================================\n",
      "## SVC(**{'C': 8.0, 'gamma': 0.03125, 'kernel': 'rbf', 'random_state': 1121})\n",
      "score:  0.825\n",
      "\n",
      "=========================================================================\n",
      "## DecisionTreeClassifier(**{'min_samples_split': 7, 'max_features': 'sqrt', 'max_depth': 30})\n",
      "score:  0.826136363636\n",
      "\n",
      "=========================================================================\n",
      "## RandomForestClassifier(**{'random_state': 1121, 'n_jobs': -1, 'n_estimators': 200, 'min_samples_split': 11, 'max_features': 'log2', 'max_depth': 18})\n",
      "score:  0.8375\n",
      "\n",
      "=========================================================================\n",
      "## ExtraTreesClassifier(**{'random_state': 1121, 'n_jobs': -1, 'n_estimators': 200, 'min_samples_split': 14, 'max_features': 'log2', 'max_depth': 16})\n",
      "score:  0.843181818182\n",
      "\n",
      "=========================================================================\n",
      "## AdaBoostClassifier(**{'learning_rate': 0.5, 'n_estimators': 20, 'random_state': 1121})\n",
      "score:  0.827272727273\n",
      "\n",
      "=========================================================================\n",
      "## XGBClassifier(**{'subsample': 0.70000000000000007, 'seed': 1121, 'reg_lambda': 1.0000000000000001e-05, 'n_estimators': 80, 'min_child_weight': 2.0, 'max_depth': 500, 'learning_rate': 0.125, 'gamma': 2.0, 'colsample_bytree': 0.80000000000000004})\n",
      "score:  0.840909090909\n",
      "\n",
      "=========================================================================\n",
      "## KNeighborsClassifier(**{'n_neighbors': 25, 'p': 2, 'weights': 'distance'})\n",
      "score:  0.829545454545\n",
      "\n",
      "=========================================================================\n",
      "## XGBClassifier(**{'subsample': 0.70000000000000007, 'seed': 1121, 'reg_lambda': 0.01, 'n_estimators': 300, 'min_child_weight': 1.0, 'max_depth': 500, 'learning_rate': 0.25, 'gamma': 1.0, 'colsample_bytree': 0.80000000000000004})\n",
      "score:  0.85\n",
      "\n"
     ]
    },
    {
     "data": {
      "image/png": "[encoded data removed]",
      "text/plain": [
       "<matplotlib.figure.Figure at 0x11426b4e0>"
      ]
     },
     "metadata": {},
     "output_type": "display_data"
    }
   ],
   "source": [
    "first_level_stack = Stacking_Classifier()\n",
    "X_train, y_train, X_test = get_train_test_set('../data/preprocessed/final/',\n",
    "                                              'Survived')\n",
    "\n",
    "sc_X = StandardScaler()\n",
    "X_train = sc_X.fit_transform(X_train)\n",
    "X_test = sc_X.transform(X_test)\n",
    "\n",
    "model_params = [('LR', LogisticRegression(), pm.logistic_param),\n",
    "                ('SVC', SVC(), pm.svc_param),\n",
    "                ('DT', DecisionTreeClassifier(), pm.dt_param),\n",
    "                ('RF', RandomForestClassifier(), pm.rf_param),\n",
    "                ('ET', ExtraTreesClassifier(), pm.extra_param),\n",
    "                ('Ada', AdaBoostClassifier(), pm.ada_param),\n",
    "                ('XGBT', XGBClassifier(), pm.xgb_param),\n",
    "                ('KNN', KNeighborsClassifier(), pm.knn_param)]\n",
    "\n",
    "for name, model, param in model_params:\n",
    "    base = get_best_classifier(X_train, y_train, model, param, n_iter=500, random_state=100)\n",
    "    first_level_stack.add_predictionCV(X_train, y_train, X_test, base, name)\n",
    "\n",
    "S_train, S_test = first_level_stack.get_train_test_set()\n",
    "first_level_stack.plot_corr_heatmap()\n",
    "\n",
    "stacker = get_best_classifier(S_train, y_train, XGBClassifier(), pm.xgb_param, n_iter=2000, n_folds=10)\n",
    "y_pred = stacker.predict(S_test).astype(int)\n",
    "\n",
    "#S_test2 = np.zeros(S_test.shape)\n",
    "#for i, (name, model, param) in enumerate(model_params):\n",
    "#    base = get_best_classifier(S_train, y_train, model, param, n_folds=10, n_iter=500)\n",
    "#    S_test2[:, i] = base.predict(S_test).reshape(S_test.shape[0])\n",
    "    \n",
    "#y_pred = (S_test2 > (S_test.shape[1] / 2)).astype(int)\n"
   ]
  },
  {
   "cell_type": "code",
   "execution_count": 44,
   "metadata": {
    "collapsed": true
   },
   "outputs": [],
   "source": [
    "y_pred = (np.hstack([S_test, S_test2[:, 1:]]).mean(axis=1) > 0.5).astype(int)"
   ]
  },
  {
   "cell_type": "code",
   "execution_count": 34,
   "metadata": {
    "scrolled": true
   },
   "outputs": [
    {
     "name": "stdout",
     "output_type": "stream",
     "text": [
      "          0         1         2         3         4         5         6  \\\n",
      "0  1.000000  0.798317  0.700486  0.798291  0.903270  0.905695  0.866800   \n",
      "1  0.798317  1.000000  0.687611  0.786486  0.829603  0.794710  0.771906   \n",
      "2  0.700486  0.687611  1.000000  0.736829  0.715954  0.706398  0.707445   \n",
      "3  0.798291  0.786486  0.736829  1.000000  0.864069  0.804446  0.851041   \n",
      "4  0.903270  0.829603  0.715954  0.864069  1.000000  0.909913  0.879016   \n",
      "5  0.905695  0.794710  0.706398  0.804446  0.909913  1.000000  0.883021   \n",
      "6  0.866800  0.771906  0.707445  0.851041  0.879016  0.883021  1.000000   \n",
      "7  0.768899  0.846075  0.702069  0.875677  0.814585  0.760226  0.791452   \n",
      "\n",
      "          7  \n",
      "0  0.768899  \n",
      "1  0.846075  \n",
      "2  0.702069  \n",
      "3  0.875677  \n",
      "4  0.814585  \n",
      "5  0.760226  \n",
      "6  0.791452  \n",
      "7  1.000000  \n",
      "=========================================================================\n",
      "## XGBClassifier(**{'subsample': 0.90000000000000002, 'seed': 1121, 'reg_lambda': 1.0000000000000001e-05, 'n_estimators': 260, 'min_child_weight': 32.0, 'max_depth': 500, 'learning_rate': 0.5, 'gamma': 16.0, 'colsample_bytree': 1.0})\n",
      "score:  0.846590909091\n",
      "\n"
     ]
    },
    {
     "name": "stderr",
     "output_type": "stream",
     "text": [
      "/Users/jsaon/anaconda3/lib/python3.6/site-packages/sklearn/utils/validation.py:429: DataConversionWarning: Data with input dtype int64 was converted to float64 by StandardScaler.\n",
      "  warnings.warn(msg, _DataConversionWarning)\n"
     ]
    },
    {
     "name": "stdout",
     "output_type": "stream",
     "text": [
      "          0         1         2         3         4         5         6  \\\n",
      "0  1.000000  0.726154  0.713680  0.866866  0.866524  0.922449  0.886436   \n",
      "1  0.726154  1.000000  0.707260  0.790643  0.796848  0.697244  0.760793   \n",
      "2  0.713680  0.707260  1.000000  0.812373  0.793562  0.734012  0.772225   \n",
      "3  0.866866  0.790643  0.812373  1.000000  0.960029  0.879086  0.919603   \n",
      "4  0.866524  0.796848  0.793562  0.960029  1.000000  0.864273  0.889991   \n",
      "5  0.922449  0.697244  0.734012  0.879086  0.864273  1.000000  0.893967   \n",
      "6  0.886436  0.760793  0.772225  0.919603  0.889991  0.893967  1.000000   \n",
      "7  0.790375  0.798391  0.764343  0.891869  0.877418  0.802077  0.846841   \n",
      "\n",
      "          7  \n",
      "0  0.790375  \n",
      "1  0.798391  \n",
      "2  0.764343  \n",
      "3  0.891869  \n",
      "4  0.877418  \n",
      "5  0.802077  \n",
      "6  0.846841  \n",
      "7  1.000000  \n",
      "=========================================================================\n",
      "## XGBClassifier(**{'subsample': 0.60000000000000009, 'seed': 1121, 'reg_lambda': 0.10000000000000001, 'n_estimators': 220, 'min_child_weight': 2.0, 'max_depth': 500, 'learning_rate': 0.5, 'gamma': 16.0, 'colsample_bytree': 0.80000000000000004})\n",
      "score:  0.848863636364\n",
      "\n"
     ]
    },
    {
     "name": "stderr",
     "output_type": "stream",
     "text": [
      "/Users/jsaon/anaconda3/lib/python3.6/site-packages/sklearn/utils/validation.py:429: DataConversionWarning: Data with input dtype int64 was converted to float64 by StandardScaler.\n",
      "  warnings.warn(msg, _DataConversionWarning)\n"
     ]
    },
    {
     "name": "stdout",
     "output_type": "stream",
     "text": [
      "          0         1         2         3         4         5         6  \\\n",
      "0  1.000000  0.722447  0.740078  0.888126  0.876079  0.939308  0.863656   \n",
      "1  0.722447  1.000000  0.688424  0.750321  0.771854  0.690160  0.744200   \n",
      "2  0.740078  0.688424  1.000000  0.789296  0.790951  0.748768  0.788596   \n",
      "3  0.888126  0.750321  0.789296  1.000000  0.972458  0.908306  0.919763   \n",
      "4  0.876079  0.771854  0.790951  0.972458  1.000000  0.885858  0.916886   \n",
      "5  0.939308  0.690160  0.748768  0.908306  0.885858  1.000000  0.863429   \n",
      "6  0.863656  0.744200  0.788596  0.919763  0.916886  0.863429  1.000000   \n",
      "7  0.759769  0.819155  0.681474  0.753248  0.769769  0.718100  0.767457   \n",
      "\n",
      "          7  \n",
      "0  0.759769  \n",
      "1  0.819155  \n",
      "2  0.681474  \n",
      "3  0.753248  \n",
      "4  0.769769  \n",
      "5  0.718100  \n",
      "6  0.767457  \n",
      "7  1.000000  \n",
      "=========================================================================\n",
      "## XGBClassifier(**{'subsample': 1.0, 'seed': 1121, 'reg_lambda': 0.0001, 'n_estimators': 120, 'min_child_weight': 8.0, 'max_depth': 500, 'learning_rate': 0.00390625, 'gamma': 4.0, 'colsample_bytree': 1.0})\n",
      "score:  0.843181818182\n",
      "\n",
      "=========================================================================\n",
      "## XGBClassifier(**{'subsample': 0.80000000000000004, 'seed': 1121, 'reg_lambda': 0.0001, 'n_estimators': 140, 'min_child_weight': 1.0, 'max_depth': 500, 'learning_rate': 0.5, 'gamma': 1.0, 'colsample_bytree': 1.0})\n",
      "score:  0.853409090909\n",
      "\n"
     ]
    },
    {
     "data": {
      "image/png": "[encoded data removed]",
      "text/plain": [
       "<matplotlib.figure.Figure at 0x11ad2b2b0>"
      ]
     },
     "metadata": {},
     "output_type": "display_data"
    }
   ],
   "source": [
    "\n",
    "second_level_stack = Stacking_Classifier()\n",
    "file_dirs = ['basics/',\n",
    "             'band/',\n",
    "             'final/']\n",
    "\n",
    "model_params = [('LR', LogisticRegression(), pm.logistic_param),\n",
    "                ('SVC', SVC(), pm.svc_param),\n",
    "                ('DT', DecisionTreeClassifier(), pm.dt_param),\n",
    "                ('RF', RandomForestClassifier(), pm.rf_param),\n",
    "                ('ET', ExtraTreesClassifier(), pm.extra_param),\n",
    "                ('Ada', AdaBoostClassifier(), pm.ada_param),\n",
    "                ('XGBT', XGBClassifier(), pm.xgb_param),\n",
    "                ('KNN', KNeighborsClassifier(), pm.knn_param)]\n",
    "\n",
    "seed1 = 100\n",
    "seed2 = 300\n",
    "#S_test2 = np.zeros(418)\n",
    "for file_dir in file_dirs:\n",
    "    first_level_stack = Stacking_Classifier()\n",
    "    X_train, y_train, X_test = get_train_test_set('../data/preprocessed/' + file_dir,\n",
    "                                                  'Survived')\n",
    "\n",
    "    sc_X = StandardScaler()\n",
    "    X_train = sc_X.fit_transform(X_train)\n",
    "    X_test = sc_X.transform(X_test)\n",
    "    \n",
    "    for name, model, param in model_params:\n",
    "        base = get_best_classifier(X_train, y_train, model, param, verbose=False, n_iter=500, random_state=seed1)\n",
    "        first_level_stack.add_predictionCV(X_train, y_train, X_test, base, name, random_state=seed1)\n",
    "\n",
    "\n",
    "    S_train, S_test = first_level_stack.get_train_test_set()\n",
    "    print(pd.DataFrame(S_train).corr())\n",
    "    \n",
    "    stacker = get_best_classifier(S_train, y_train, XGBClassifier(), pm.xgb_param, random_state=seed2)\n",
    "    second_level_stack.add_predictionCV(S_train, y_train, S_test, stacker, file_dir, random_state=seed2)\n",
    "    \n",
    "\n",
    "second_level_stack.plot_corr_heatmap()\n",
    "S_train2, S_test2 = second_level_stack.get_train_test_set()\n",
    "stacker = get_best_classifier(S_train2, y_train, XGBClassifier(), pm.xgb_param, n_iter=2000)\n",
    "y_pred = stacker.predict(S_test2).astype(int)"
   ]
  },
  {
   "cell_type": "code",
   "execution_count": 38,
   "metadata": {},
   "outputs": [
    {
     "name": "stdout",
     "output_type": "stream",
     "text": [
      "          0         1         2         3         4         5         6  \\\n",
      "0  1.000000  0.874526  0.778778  0.805639  0.910619  0.915430  0.847670   \n",
      "1  0.874526  1.000000  0.750784  0.770273  0.893512  0.876289  0.811712   \n",
      "2  0.778778  0.750784  1.000000  0.807006  0.786108  0.760443  0.813219   \n",
      "3  0.805639  0.770273  0.807006  1.000000  0.858921  0.812258  0.912536   \n",
      "4  0.910619  0.893512  0.786108  0.858921  1.000000  0.932174  0.891007   \n",
      "5  0.915430  0.876289  0.760443  0.812258  0.932174  1.000000  0.864147   \n",
      "6  0.847670  0.811712  0.813219  0.912536  0.891007  0.864147  1.000000   \n",
      "7  0.766421  0.785259  0.766824  0.845614  0.809367  0.792614  0.817407   \n",
      "\n",
      "          7  \n",
      "0  0.766421  \n",
      "1  0.785259  \n",
      "2  0.766824  \n",
      "3  0.845614  \n",
      "4  0.809367  \n",
      "5  0.792614  \n",
      "6  0.817407  \n",
      "7  1.000000  \n",
      "=========================================================================\n",
      "## XGBClassifier(**{'subsample': 1.0, 'seed': 1121, 'reg_lambda': 0.10000000000000001, 'n_estimators': 40, 'min_child_weight': 32.0, 'max_depth': 500, 'learning_rate': 0.5, 'gamma': 32.0, 'colsample_bytree': 0.60000000000000009})\n",
      "score:  0.846590909091\n",
      "\n"
     ]
    },
    {
     "name": "stderr",
     "output_type": "stream",
     "text": [
      "/Users/jsaon/anaconda3/lib/python3.6/site-packages/sklearn/utils/validation.py:429: DataConversionWarning: Data with input dtype int64 was converted to float64 by StandardScaler.\n",
      "  warnings.warn(msg, _DataConversionWarning)\n"
     ]
    },
    {
     "name": "stdout",
     "output_type": "stream",
     "text": [
      "          0         1         2         3         4         5         6  \\\n",
      "0  1.000000  0.726154  0.768208  0.854470  0.879691  0.922449  0.839472   \n",
      "1  0.726154  1.000000  0.739333  0.798391  0.777123  0.697244  0.729838   \n",
      "2  0.768208  0.739333  1.000000  0.815916  0.820026  0.779423  0.762299   \n",
      "3  0.854470  0.798391  0.815916  1.000000  0.949618  0.861691  0.880306   \n",
      "4  0.879691  0.777123  0.820026  0.949618  1.000000  0.896682  0.870110   \n",
      "5  0.922449  0.697244  0.779423  0.861691  0.896682  1.000000  0.837237   \n",
      "6  0.839472  0.729838  0.762299  0.880306  0.870110  0.837237  1.000000   \n",
      "7  0.790375  0.798391  0.775551  0.894463  0.878922  0.802077  0.820360   \n",
      "\n",
      "          7  \n",
      "0  0.790375  \n",
      "1  0.798391  \n",
      "2  0.775551  \n",
      "3  0.894463  \n",
      "4  0.878922  \n",
      "5  0.802077  \n",
      "6  0.820360  \n",
      "7  1.000000  \n",
      "=========================================================================\n",
      "## XGBClassifier(**{'subsample': 0.80000000000000004, 'seed': 1121, 'reg_lambda': 0.01, 'n_estimators': 100, 'min_child_weight': 16.0, 'max_depth': 500, 'learning_rate': 0.5, 'gamma': 8.0, 'colsample_bytree': 0.80000000000000004})\n",
      "score:  0.852272727273\n",
      "\n"
     ]
    },
    {
     "name": "stderr",
     "output_type": "stream",
     "text": [
      "/Users/jsaon/anaconda3/lib/python3.6/site-packages/sklearn/utils/validation.py:429: DataConversionWarning: Data with input dtype int64 was converted to float64 by StandardScaler.\n",
      "  warnings.warn(msg, _DataConversionWarning)\n"
     ]
    },
    {
     "name": "stdout",
     "output_type": "stream",
     "text": [
      "          0         1         2         3         4         5         6  \\\n",
      "0  1.000000  0.700164  0.665009  0.888237  0.863656  0.946614  0.831634   \n",
      "1  0.700164  1.000000  0.714059  0.717407  0.737110  0.665854  0.713582   \n",
      "2  0.665009  0.714059  1.000000  0.706241  0.715785  0.675091  0.702164   \n",
      "3  0.888237  0.717407  0.706241  1.000000  0.969859  0.900963  0.886733   \n",
      "4  0.863656  0.737110  0.715785  0.969859  1.000000  0.871080  0.896597   \n",
      "5  0.946614  0.665854  0.675091  0.900963  0.871080  1.000000  0.833611   \n",
      "6  0.831634  0.713582  0.702164  0.886733  0.896597  0.833611  1.000000   \n",
      "7  0.759780  0.811655  0.718634  0.762577  0.772225  0.720719  0.769018   \n",
      "\n",
      "          7  \n",
      "0  0.759780  \n",
      "1  0.811655  \n",
      "2  0.718634  \n",
      "3  0.762577  \n",
      "4  0.772225  \n",
      "5  0.720719  \n",
      "6  0.769018  \n",
      "7  1.000000  \n",
      "=========================================================================\n",
      "## XGBClassifier(**{'subsample': 0.60000000000000009, 'seed': 1121, 'reg_lambda': 0.01, 'n_estimators': 100, 'min_child_weight': 8.0, 'max_depth': 500, 'learning_rate': 0.125, 'gamma': 2.0, 'colsample_bytree': 0.90000000000000002})\n",
      "score:  0.857954545455\n",
      "\n"
     ]
    },
    {
     "data": {
      "text/plain": [
       "array([0, 0, 0, 0, 1, 0, 1, 0, 1, 0, 0, 0, 1, 0, 1, 1, 0, 0, 0, 1, 0, 1, 1,\n",
       "       0, 1, 0, 1, 0, 0, 0, 0, 0, 1, 0, 0, 0, 0, 0, 0, 0, 0, 0, 0, 1, 1, 0,\n",
       "       0, 0, 1, 1, 0, 0, 1, 1, 0, 0, 0, 0, 0, 1, 0, 0, 0, 1, 1, 1, 1, 0, 0,\n",
       "       1, 1, 0, 0, 1, 1, 0, 0, 1, 0, 1, 1, 0, 0, 0, 0, 0, 1, 1, 1, 1, 1, 0,\n",
       "       1, 0, 0, 0, 1, 0, 0, 0, 1, 0, 0, 0, 1, 0, 0, 0, 0, 0, 0, 1, 1, 1, 1,\n",
       "       0, 0, 1, 0, 1, 1, 0, 1, 0, 0, 1, 0, 1, 0, 0, 0, 0, 0, 0, 0, 0, 0, 0,\n",
       "       0, 0, 0, 1, 0, 0, 1, 0, 0, 0, 0, 0, 1, 0, 0, 1, 0, 0, 1, 0, 0, 0, 1,\n",
       "       1, 1, 0, 0, 1, 0, 0, 1, 0, 0, 0, 0, 0, 0, 1, 1, 1, 1, 1, 0, 1, 1, 0,\n",
       "       1, 0, 1, 0, 0, 0, 0, 0, 1, 0, 1, 0, 1, 0, 0, 0, 1, 1, 0, 1, 0, 0, 1,\n",
       "       0, 1, 0, 0, 0, 0, 1, 1, 1, 1, 0, 1, 0, 1, 0, 1, 0, 1, 1, 0, 1, 0, 0,\n",
       "       0, 1, 0, 0, 0, 0, 0, 0, 1, 1, 1, 1, 1, 0, 0, 0, 1, 0, 1, 1, 1, 0, 0,\n",
       "       0, 0, 0, 0, 0, 1, 0, 0, 0, 1, 1, 0, 0, 0, 0, 0, 0, 0, 0, 1, 1, 0, 1,\n",
       "       0, 0, 0, 0, 0, 1, 1, 1, 1, 0, 0, 0, 0, 0, 0, 1, 0, 1, 0, 0, 1, 0, 0,\n",
       "       0, 0, 0, 0, 0, 1, 1, 0, 1, 0, 1, 0, 0, 0, 1, 1, 1, 1, 0, 0, 0, 0, 0,\n",
       "       0, 0, 1, 0, 1, 0, 0, 0, 1, 0, 0, 1, 0, 0, 0, 0, 0, 1, 0, 0, 0, 1, 1,\n",
       "       0, 0, 1, 0, 1, 1, 0, 0, 0, 1, 0, 1, 0, 0, 1, 0, 1, 1, 0, 1, 0, 0, 1,\n",
       "       1, 0, 0, 1, 0, 0, 1, 1, 0, 0, 0, 0, 0, 0, 1, 1, 0, 1, 0, 0, 0, 0, 1,\n",
       "       1, 1, 0, 0, 1, 0, 1, 0, 0, 1, 0, 1, 0, 1, 0, 0, 0, 1, 1, 1, 1, 0, 0,\n",
       "       1, 0, 0, 1])"
      ]
     },
     "execution_count": 38,
     "metadata": {},
     "output_type": "execute_result"
    }
   ],
   "source": [
    "\n",
    "second_level_stack = Stacking_Classifier()\n",
    "file_dirs = ['basics/',\n",
    "             'band/',\n",
    "             'final/']\n",
    "\n",
    "model_params = [('LR', LogisticRegression(), pm.logistic_param),\n",
    "                ('SVC', SVC(), pm.svc_param),\n",
    "                ('DT', DecisionTreeClassifier(), pm.dt_param),\n",
    "                ('RF', RandomForestClassifier(), pm.rf_param),\n",
    "                ('ET', ExtraTreesClassifier(), pm.extra_param),\n",
    "                ('Ada', AdaBoostClassifier(), pm.ada_param),\n",
    "                ('XGBT', XGBClassifier(), pm.xgb_param),\n",
    "                ('KNN', KNeighborsClassifier(), pm.knn_param)]\n",
    "\n",
    "seed1 = 100\n",
    "seed2 = 300\n",
    "S_test2 = np.zeros(418)\n",
    "for file_dir in file_dirs:\n",
    "    first_level_stack = Stacking_Classifier()\n",
    "    X_train, y_train, X_test = get_train_test_set('../data/preprocessed/' + file_dir,\n",
    "                                                  'Survived')\n",
    "\n",
    "    sc_X = StandardScaler()\n",
    "    X_train = sc_X.fit_transform(X_train)\n",
    "    X_test = sc_X.transform(X_test)\n",
    "    \n",
    "    for name, model, param in model_params:\n",
    "        base = get_best_classifier(X_train, y_train, model, param, verbose=False, n_iter=200, random_state=seed1)\n",
    "        first_level_stack.add_predictionCV(X_train, y_train, X_test, base, name, random_state=seed1)\n",
    "\n",
    "\n",
    "    S_train, S_test = first_level_stack.get_train_test_set()\n",
    "    print(pd.DataFrame(S_train).corr())\n",
    "    \n",
    "    stacker = get_best_classifier(S_train, y_train, XGBClassifier(), pm.xgb_param, n_iter= 500, random_state=seed2)\n",
    "    S_test2 = S_test2 + stacker.predict(S_test)\n",
    "\n",
    "y_pred = (S_test2 > 1.5).astype(int)\n",
    "y_pred"
   ]
  },
  {
   "cell_type": "code",
   "execution_count": 3,
   "metadata": {},
   "outputs": [
    {
     "data": {
      "text/plain": [
       "array([0, 0, 0, 0, 1, 0, 1, 0, 1, 0, 0, 0, 1, 0, 1, 1, 0, 0, 0, 1, 0, 0, 1,\n",
       "       0, 1, 0, 1, 0, 0, 0, 0, 0, 1, 0, 0, 0, 1, 1, 0, 1, 0, 0, 0, 1, 1, 0,\n",
       "       0, 0, 1, 1, 0, 0, 1, 1, 0, 0, 0, 0, 0, 1, 0, 0, 0, 1, 1, 1, 1, 0, 0,\n",
       "       1, 1, 0, 0, 1, 1, 0, 0, 1, 0, 1, 1, 0, 0, 0, 0, 0, 1, 0, 1, 1, 1, 0,\n",
       "       1, 0, 0, 0, 1, 0, 0, 0, 1, 0, 0, 0, 1, 0, 0, 0, 0, 0, 0, 1, 1, 1, 1,\n",
       "       0, 0, 1, 0, 1, 1, 0, 1, 0, 0, 0, 0, 1, 0, 0, 0, 0, 0, 0, 0, 0, 0, 0,\n",
       "       0, 0, 0, 1, 0, 0, 1, 0, 0, 0, 1, 0, 1, 0, 0, 1, 0, 0, 1, 1, 0, 0, 1,\n",
       "       1, 1, 0, 0, 1, 0, 0, 1, 0, 0, 0, 0, 0, 0, 1, 1, 0, 1, 1, 0, 1, 1, 0,\n",
       "       1, 0, 1, 0, 0, 0, 0, 1, 1, 0, 1, 0, 1, 0, 0, 0, 1, 1, 1, 1, 0, 0, 1,\n",
       "       0, 1, 0, 0, 0, 0, 1, 0, 0, 1, 0, 1, 0, 1, 0, 1, 0, 1, 1, 0, 1, 0, 0,\n",
       "       0, 1, 0, 0, 0, 0, 0, 0, 1, 1, 1, 1, 1, 0, 0, 0, 1, 0, 1, 1, 1, 0, 0,\n",
       "       0, 0, 0, 0, 0, 1, 0, 0, 0, 1, 1, 0, 0, 0, 0, 0, 0, 0, 0, 1, 1, 0, 1,\n",
       "       0, 0, 0, 0, 1, 1, 1, 1, 1, 0, 0, 1, 0, 0, 0, 1, 0, 0, 0, 0, 1, 0, 0,\n",
       "       0, 0, 0, 0, 0, 1, 1, 0, 1, 0, 1, 0, 0, 0, 1, 1, 1, 1, 0, 0, 0, 0, 0,\n",
       "       0, 1, 1, 0, 1, 0, 0, 0, 1, 0, 0, 1, 0, 0, 0, 0, 0, 0, 0, 0, 0, 1, 1,\n",
       "       0, 0, 1, 0, 1, 1, 0, 0, 0, 1, 0, 1, 0, 0, 1, 0, 1, 1, 0, 1, 0, 0, 0,\n",
       "       1, 0, 0, 1, 0, 0, 1, 1, 0, 0, 0, 0, 0, 0, 1, 1, 0, 1, 0, 0, 0, 0, 0,\n",
       "       1, 1, 0, 0, 1, 0, 1, 0, 0, 1, 0, 1, 0, 1, 0, 0, 0, 1, 0, 1, 1, 0, 0,\n",
       "       1, 0, 0, 1])"
      ]
     },
     "execution_count": 3,
     "metadata": {},
     "output_type": "execute_result"
    }
   ],
   "source": [
    "y_pred"
   ]
  },
  {
   "cell_type": "code",
   "execution_count": 39,
   "metadata": {},
   "outputs": [
    {
     "name": "stdout",
     "output_type": "stream",
     "text": [
      "          0         1         2\n",
      "0  1.000000  0.895837  0.883371\n",
      "1  0.895837  1.000000  0.937134\n",
      "2  0.883371  0.937134  1.000000\n"
     ]
    }
   ],
   "source": [
    "print(pd.DataFrame(S_train2).corr())"
   ]
  },
  {
   "cell_type": "code",
   "execution_count": 4,
   "metadata": {
    "collapsed": true
   },
   "outputs": [],
   "source": [
    "test_df = pd.read_csv('../data/input/test.csv')\n",
    "submission = pd.DataFrame({'PassengerId': test_df['PassengerId'],\n",
    "                           'Survived': y_pred})\n",
    "submission.to_csv('../output/submission29.csv', index=False)"
   ]
  },
  {
   "cell_type": "code",
   "execution_count": null,
   "metadata": {
    "collapsed": true
   },
   "outputs": [],
   "source": []
  }
 ],
 "metadata": {
  "kernelspec": {
   "display_name": "Python 3",
   "language": "python",
   "name": "python3"
  },
  "language_info": {
   "codemirror_mode": {
    "name": "ipython",
    "version": 3
   },
   "file_extension": ".py",
   "mimetype": "text/x-python",
   "name": "python",
   "nbconvert_exporter": "python",
   "pygments_lexer": "ipython3",
   "version": "3.6.1"
  }
 },
 "nbformat": 4,
 "nbformat_minor": 2
}
